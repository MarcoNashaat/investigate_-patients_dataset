{
 "cells": [
  {
   "cell_type": "markdown",
   "id": "0485e9f5",
   "metadata": {},
   "source": [
    "# Project: Investigate Medical Appointments No Shows dataset."
   ]
  },
  {
   "cell_type": "markdown",
   "id": "4e205cb5",
   "metadata": {},
   "source": [
    "## Table of Contents.\n",
    "<ul>\n",
    "<li><a href=\"#intro\">Introduction</a></li>\n",
    "<li><a href=\"#wrangling\">Data Wrangling</a></li>\n",
    "<li><a href=\"#eda\">Exploratory Data Analysis</a></li>\n",
    "<li><a href=\"#conclusions\">Conclusions</a></li>\n",
    "</ul>"
   ]
  },
  {
   "cell_type": "markdown",
   "id": "b7899a83",
   "metadata": {},
   "source": [
    "<a id='intro'></a>\n",
    "## Introduction\n",
    "This is a part of Udacity data analysis nanodegree program offered by Egypt FWD(ITIDA). The dataset contains information about more than 110k medical appointments, with the attribute of whether the pathient shows up for the appointment or not. The main objective of this data analysis is to find trends between patients, who didn't show up for their appointemnts. \n",
    "<ul>\n",
    "<li>Does age, gender affect whether the patient show up or not? \n",
    "<li>is there a day of the week patients will be more likely to show up at? \n",
    "<li>does having a medical condition(eg: Hipertension) increase the chances of showing up? \n",
    "</ul>\n",
    "In the next sections, we will go through the dataset, and clean it to get ready for analysis, and answer the questions already presented above.  "
   ]
  },
  {
   "cell_type": "code",
   "execution_count": 4,
   "id": "9ad5248f",
   "metadata": {},
   "outputs": [],
   "source": [
    "#importing libraries for analysis.\n",
    "import pandas as pd\n",
    "import numpy as np\n",
    "import matplotlib.pyplot as plt\n",
    "%matplotlib inline"
   ]
  },
  {
   "cell_type": "markdown",
   "id": "ded4fd03",
   "metadata": {},
   "source": [
    "<a id='wrangling'></a>\n",
    "## Data Wrangling"
   ]
  },
  {
   "cell_type": "code",
   "execution_count": 2,
   "id": "65b2264d",
   "metadata": {},
   "outputs": [
    {
     "data": {
      "text/html": [
       "<div>\n",
       "<style scoped>\n",
       "    .dataframe tbody tr th:only-of-type {\n",
       "        vertical-align: middle;\n",
       "    }\n",
       "\n",
       "    .dataframe tbody tr th {\n",
       "        vertical-align: top;\n",
       "    }\n",
       "\n",
       "    .dataframe thead th {\n",
       "        text-align: right;\n",
       "    }\n",
       "</style>\n",
       "<table border=\"1\" class=\"dataframe\">\n",
       "  <thead>\n",
       "    <tr style=\"text-align: right;\">\n",
       "      <th></th>\n",
       "      <th>PatientId</th>\n",
       "      <th>AppointmentID</th>\n",
       "      <th>Gender</th>\n",
       "      <th>ScheduledDay</th>\n",
       "      <th>AppointmentDay</th>\n",
       "      <th>Age</th>\n",
       "      <th>Neighbourhood</th>\n",
       "      <th>Scholarship</th>\n",
       "      <th>Hipertension</th>\n",
       "      <th>Diabetes</th>\n",
       "      <th>Alcoholism</th>\n",
       "      <th>Handcap</th>\n",
       "      <th>SMS_received</th>\n",
       "      <th>No-show</th>\n",
       "    </tr>\n",
       "  </thead>\n",
       "  <tbody>\n",
       "    <tr>\n",
       "      <th>0</th>\n",
       "      <td>2.987250e+13</td>\n",
       "      <td>5642903</td>\n",
       "      <td>F</td>\n",
       "      <td>2016-04-29T18:38:08Z</td>\n",
       "      <td>2016-04-29T00:00:00Z</td>\n",
       "      <td>62</td>\n",
       "      <td>JARDIM DA PENHA</td>\n",
       "      <td>0</td>\n",
       "      <td>1</td>\n",
       "      <td>0</td>\n",
       "      <td>0</td>\n",
       "      <td>0</td>\n",
       "      <td>0</td>\n",
       "      <td>No</td>\n",
       "    </tr>\n",
       "    <tr>\n",
       "      <th>1</th>\n",
       "      <td>5.589978e+14</td>\n",
       "      <td>5642503</td>\n",
       "      <td>M</td>\n",
       "      <td>2016-04-29T16:08:27Z</td>\n",
       "      <td>2016-04-29T00:00:00Z</td>\n",
       "      <td>56</td>\n",
       "      <td>JARDIM DA PENHA</td>\n",
       "      <td>0</td>\n",
       "      <td>0</td>\n",
       "      <td>0</td>\n",
       "      <td>0</td>\n",
       "      <td>0</td>\n",
       "      <td>0</td>\n",
       "      <td>No</td>\n",
       "    </tr>\n",
       "    <tr>\n",
       "      <th>2</th>\n",
       "      <td>4.262962e+12</td>\n",
       "      <td>5642549</td>\n",
       "      <td>F</td>\n",
       "      <td>2016-04-29T16:19:04Z</td>\n",
       "      <td>2016-04-29T00:00:00Z</td>\n",
       "      <td>62</td>\n",
       "      <td>MATA DA PRAIA</td>\n",
       "      <td>0</td>\n",
       "      <td>0</td>\n",
       "      <td>0</td>\n",
       "      <td>0</td>\n",
       "      <td>0</td>\n",
       "      <td>0</td>\n",
       "      <td>No</td>\n",
       "    </tr>\n",
       "    <tr>\n",
       "      <th>3</th>\n",
       "      <td>8.679512e+11</td>\n",
       "      <td>5642828</td>\n",
       "      <td>F</td>\n",
       "      <td>2016-04-29T17:29:31Z</td>\n",
       "      <td>2016-04-29T00:00:00Z</td>\n",
       "      <td>8</td>\n",
       "      <td>PONTAL DE CAMBURI</td>\n",
       "      <td>0</td>\n",
       "      <td>0</td>\n",
       "      <td>0</td>\n",
       "      <td>0</td>\n",
       "      <td>0</td>\n",
       "      <td>0</td>\n",
       "      <td>No</td>\n",
       "    </tr>\n",
       "    <tr>\n",
       "      <th>4</th>\n",
       "      <td>8.841186e+12</td>\n",
       "      <td>5642494</td>\n",
       "      <td>F</td>\n",
       "      <td>2016-04-29T16:07:23Z</td>\n",
       "      <td>2016-04-29T00:00:00Z</td>\n",
       "      <td>56</td>\n",
       "      <td>JARDIM DA PENHA</td>\n",
       "      <td>0</td>\n",
       "      <td>1</td>\n",
       "      <td>1</td>\n",
       "      <td>0</td>\n",
       "      <td>0</td>\n",
       "      <td>0</td>\n",
       "      <td>No</td>\n",
       "    </tr>\n",
       "  </tbody>\n",
       "</table>\n",
       "</div>"
      ],
      "text/plain": [
       "      PatientId  AppointmentID Gender          ScheduledDay  \\\n",
       "0  2.987250e+13        5642903      F  2016-04-29T18:38:08Z   \n",
       "1  5.589978e+14        5642503      M  2016-04-29T16:08:27Z   \n",
       "2  4.262962e+12        5642549      F  2016-04-29T16:19:04Z   \n",
       "3  8.679512e+11        5642828      F  2016-04-29T17:29:31Z   \n",
       "4  8.841186e+12        5642494      F  2016-04-29T16:07:23Z   \n",
       "\n",
       "         AppointmentDay  Age      Neighbourhood  Scholarship  Hipertension  \\\n",
       "0  2016-04-29T00:00:00Z   62    JARDIM DA PENHA            0             1   \n",
       "1  2016-04-29T00:00:00Z   56    JARDIM DA PENHA            0             0   \n",
       "2  2016-04-29T00:00:00Z   62      MATA DA PRAIA            0             0   \n",
       "3  2016-04-29T00:00:00Z    8  PONTAL DE CAMBURI            0             0   \n",
       "4  2016-04-29T00:00:00Z   56    JARDIM DA PENHA            0             1   \n",
       "\n",
       "   Diabetes  Alcoholism  Handcap  SMS_received No-show  \n",
       "0         0           0        0             0      No  \n",
       "1         0           0        0             0      No  \n",
       "2         0           0        0             0      No  \n",
       "3         0           0        0             0      No  \n",
       "4         1           0        0             0      No  "
      ]
     },
     "execution_count": 2,
     "metadata": {},
     "output_type": "execute_result"
    }
   ],
   "source": [
    "#loading data into a dataframe.\n",
    "df = pd.read_csv('noshowappointments-kagglev2-may-2016.csv')\n",
    "df.head()"
   ]
  },
  {
   "cell_type": "code",
   "execution_count": 3,
   "id": "6f46e7d1",
   "metadata": {},
   "outputs": [
    {
     "name": "stdout",
     "output_type": "stream",
     "text": [
      "<class 'pandas.core.frame.DataFrame'>\n",
      "RangeIndex: 110527 entries, 0 to 110526\n",
      "Data columns (total 14 columns):\n",
      " #   Column          Non-Null Count   Dtype  \n",
      "---  ------          --------------   -----  \n",
      " 0   PatientId       110527 non-null  float64\n",
      " 1   AppointmentID   110527 non-null  int64  \n",
      " 2   Gender          110527 non-null  object \n",
      " 3   ScheduledDay    110527 non-null  object \n",
      " 4   AppointmentDay  110527 non-null  object \n",
      " 5   Age             110527 non-null  int64  \n",
      " 6   Neighbourhood   110527 non-null  object \n",
      " 7   Scholarship     110527 non-null  int64  \n",
      " 8   Hipertension    110527 non-null  int64  \n",
      " 9   Diabetes        110527 non-null  int64  \n",
      " 10  Alcoholism      110527 non-null  int64  \n",
      " 11  Handcap         110527 non-null  int64  \n",
      " 12  SMS_received    110527 non-null  int64  \n",
      " 13  No-show         110527 non-null  object \n",
      "dtypes: float64(1), int64(8), object(5)\n",
      "memory usage: 11.8+ MB\n"
     ]
    }
   ],
   "source": [
    "#basic information about the dataset.\n",
    "df.info()"
   ]
  },
  {
   "cell_type": "code",
   "execution_count": 4,
   "id": "ee32d29c",
   "metadata": {},
   "outputs": [
    {
     "data": {
      "text/html": [
       "<div>\n",
       "<style scoped>\n",
       "    .dataframe tbody tr th:only-of-type {\n",
       "        vertical-align: middle;\n",
       "    }\n",
       "\n",
       "    .dataframe tbody tr th {\n",
       "        vertical-align: top;\n",
       "    }\n",
       "\n",
       "    .dataframe thead th {\n",
       "        text-align: right;\n",
       "    }\n",
       "</style>\n",
       "<table border=\"1\" class=\"dataframe\">\n",
       "  <thead>\n",
       "    <tr style=\"text-align: right;\">\n",
       "      <th></th>\n",
       "      <th>PatientId</th>\n",
       "      <th>AppointmentID</th>\n",
       "      <th>Age</th>\n",
       "      <th>Scholarship</th>\n",
       "      <th>Hipertension</th>\n",
       "      <th>Diabetes</th>\n",
       "      <th>Alcoholism</th>\n",
       "      <th>Handcap</th>\n",
       "      <th>SMS_received</th>\n",
       "    </tr>\n",
       "  </thead>\n",
       "  <tbody>\n",
       "    <tr>\n",
       "      <th>count</th>\n",
       "      <td>1.105270e+05</td>\n",
       "      <td>110527.00</td>\n",
       "      <td>110527.00</td>\n",
       "      <td>110527.0</td>\n",
       "      <td>110527.0</td>\n",
       "      <td>110527.00</td>\n",
       "      <td>110527.00</td>\n",
       "      <td>110527.00</td>\n",
       "      <td>110527.00</td>\n",
       "    </tr>\n",
       "    <tr>\n",
       "      <th>mean</th>\n",
       "      <td>1.474963e+14</td>\n",
       "      <td>5675305.12</td>\n",
       "      <td>37.09</td>\n",
       "      <td>0.1</td>\n",
       "      <td>0.2</td>\n",
       "      <td>0.07</td>\n",
       "      <td>0.03</td>\n",
       "      <td>0.02</td>\n",
       "      <td>0.32</td>\n",
       "    </tr>\n",
       "    <tr>\n",
       "      <th>std</th>\n",
       "      <td>2.560949e+14</td>\n",
       "      <td>71295.75</td>\n",
       "      <td>23.11</td>\n",
       "      <td>0.3</td>\n",
       "      <td>0.4</td>\n",
       "      <td>0.26</td>\n",
       "      <td>0.17</td>\n",
       "      <td>0.16</td>\n",
       "      <td>0.47</td>\n",
       "    </tr>\n",
       "    <tr>\n",
       "      <th>min</th>\n",
       "      <td>3.921784e+04</td>\n",
       "      <td>5030230.00</td>\n",
       "      <td>-1.00</td>\n",
       "      <td>0.0</td>\n",
       "      <td>0.0</td>\n",
       "      <td>0.00</td>\n",
       "      <td>0.00</td>\n",
       "      <td>0.00</td>\n",
       "      <td>0.00</td>\n",
       "    </tr>\n",
       "    <tr>\n",
       "      <th>25%</th>\n",
       "      <td>4.172614e+12</td>\n",
       "      <td>5640285.50</td>\n",
       "      <td>18.00</td>\n",
       "      <td>0.0</td>\n",
       "      <td>0.0</td>\n",
       "      <td>0.00</td>\n",
       "      <td>0.00</td>\n",
       "      <td>0.00</td>\n",
       "      <td>0.00</td>\n",
       "    </tr>\n",
       "    <tr>\n",
       "      <th>50%</th>\n",
       "      <td>3.173184e+13</td>\n",
       "      <td>5680573.00</td>\n",
       "      <td>37.00</td>\n",
       "      <td>0.0</td>\n",
       "      <td>0.0</td>\n",
       "      <td>0.00</td>\n",
       "      <td>0.00</td>\n",
       "      <td>0.00</td>\n",
       "      <td>0.00</td>\n",
       "    </tr>\n",
       "    <tr>\n",
       "      <th>75%</th>\n",
       "      <td>9.439172e+13</td>\n",
       "      <td>5725523.50</td>\n",
       "      <td>55.00</td>\n",
       "      <td>0.0</td>\n",
       "      <td>0.0</td>\n",
       "      <td>0.00</td>\n",
       "      <td>0.00</td>\n",
       "      <td>0.00</td>\n",
       "      <td>1.00</td>\n",
       "    </tr>\n",
       "    <tr>\n",
       "      <th>max</th>\n",
       "      <td>9.999816e+14</td>\n",
       "      <td>5790484.00</td>\n",
       "      <td>115.00</td>\n",
       "      <td>1.0</td>\n",
       "      <td>1.0</td>\n",
       "      <td>1.00</td>\n",
       "      <td>1.00</td>\n",
       "      <td>4.00</td>\n",
       "      <td>1.00</td>\n",
       "    </tr>\n",
       "  </tbody>\n",
       "</table>\n",
       "</div>"
      ],
      "text/plain": [
       "          PatientId  AppointmentID        Age  Scholarship  Hipertension  \\\n",
       "count  1.105270e+05      110527.00  110527.00     110527.0      110527.0   \n",
       "mean   1.474963e+14     5675305.12      37.09          0.1           0.2   \n",
       "std    2.560949e+14       71295.75      23.11          0.3           0.4   \n",
       "min    3.921784e+04     5030230.00      -1.00          0.0           0.0   \n",
       "25%    4.172614e+12     5640285.50      18.00          0.0           0.0   \n",
       "50%    3.173184e+13     5680573.00      37.00          0.0           0.0   \n",
       "75%    9.439172e+13     5725523.50      55.00          0.0           0.0   \n",
       "max    9.999816e+14     5790484.00     115.00          1.0           1.0   \n",
       "\n",
       "        Diabetes  Alcoholism    Handcap  SMS_received  \n",
       "count  110527.00   110527.00  110527.00     110527.00  \n",
       "mean        0.07        0.03       0.02          0.32  \n",
       "std         0.26        0.17       0.16          0.47  \n",
       "min         0.00        0.00       0.00          0.00  \n",
       "25%         0.00        0.00       0.00          0.00  \n",
       "50%         0.00        0.00       0.00          0.00  \n",
       "75%         0.00        0.00       0.00          1.00  \n",
       "max         1.00        1.00       4.00          1.00  "
      ]
     },
     "execution_count": 4,
     "metadata": {},
     "output_type": "execute_result"
    }
   ],
   "source": [
    "df.describe().round(2)"
   ]
  },
  {
   "cell_type": "markdown",
   "id": "df7eea16",
   "metadata": {},
   "source": [
    "first things first, renameing the columns with lowercase version for easier handling."
   ]
  },
  {
   "cell_type": "code",
   "execution_count": 5,
   "id": "c6db6e94",
   "metadata": {},
   "outputs": [],
   "source": [
    "#converting columns' names to lowercase for consistency.\n",
    "df.columns = df.columns.str.lower()"
   ]
  },
  {
   "cell_type": "markdown",
   "id": "6a6e5231",
   "metadata": {},
   "source": [
    "searching for duplicate values and nan values in the dataset."
   ]
  },
  {
   "cell_type": "code",
   "execution_count": 6,
   "id": "c23d8d80",
   "metadata": {},
   "outputs": [
    {
     "name": "stdout",
     "output_type": "stream",
     "text": [
      "number of nan values is 0\n",
      "number of duplicates is 0\n"
     ]
    }
   ],
   "source": [
    "#checking for NAN values and duplicates,\n",
    "#and dealing with them if there's any.\n",
    "print('number of nan values is {}'.format(df.isna().sum().sum()))\n",
    "print('number of duplicates is {}'.format(df.duplicated().sum()))"
   ]
  },
  {
   "cell_type": "markdown",
   "id": "d11cf613",
   "metadata": {},
   "source": [
    "dropping unnecessary columns."
   ]
  },
  {
   "cell_type": "code",
   "execution_count": 7,
   "id": "99670c29",
   "metadata": {},
   "outputs": [],
   "source": [
    "#the column won't be of any use in \n",
    "#the analysis process.\n",
    "df.drop('appointmentid',axis=1,inplace=True)"
   ]
  },
  {
   "cell_type": "code",
   "execution_count": 8,
   "id": "60433316",
   "metadata": {},
   "outputs": [
    {
     "data": {
      "text/html": [
       "<div>\n",
       "<style scoped>\n",
       "    .dataframe tbody tr th:only-of-type {\n",
       "        vertical-align: middle;\n",
       "    }\n",
       "\n",
       "    .dataframe tbody tr th {\n",
       "        vertical-align: top;\n",
       "    }\n",
       "\n",
       "    .dataframe thead th {\n",
       "        text-align: right;\n",
       "    }\n",
       "</style>\n",
       "<table border=\"1\" class=\"dataframe\">\n",
       "  <thead>\n",
       "    <tr style=\"text-align: right;\">\n",
       "      <th></th>\n",
       "      <th>patientid</th>\n",
       "      <th>gender</th>\n",
       "      <th>scheduledday</th>\n",
       "      <th>appointmentday</th>\n",
       "      <th>age</th>\n",
       "      <th>neighbourhood</th>\n",
       "      <th>scholarship</th>\n",
       "      <th>hipertension</th>\n",
       "      <th>diabetes</th>\n",
       "      <th>alcoholism</th>\n",
       "      <th>handcap</th>\n",
       "      <th>sms_received</th>\n",
       "      <th>no-show</th>\n",
       "    </tr>\n",
       "  </thead>\n",
       "  <tbody>\n",
       "    <tr>\n",
       "      <th>99832</th>\n",
       "      <td>4.659432e+14</td>\n",
       "      <td>F</td>\n",
       "      <td>2016-06-06T08:58:13Z</td>\n",
       "      <td>2016-06-06T00:00:00Z</td>\n",
       "      <td>-1</td>\n",
       "      <td>ROMÃO</td>\n",
       "      <td>0</td>\n",
       "      <td>0</td>\n",
       "      <td>0</td>\n",
       "      <td>0</td>\n",
       "      <td>0</td>\n",
       "      <td>0</td>\n",
       "      <td>No</td>\n",
       "    </tr>\n",
       "  </tbody>\n",
       "</table>\n",
       "</div>"
      ],
      "text/plain": [
       "          patientid gender          scheduledday        appointmentday  age  \\\n",
       "99832  4.659432e+14      F  2016-06-06T08:58:13Z  2016-06-06T00:00:00Z   -1   \n",
       "\n",
       "      neighbourhood  scholarship  hipertension  diabetes  alcoholism  handcap  \\\n",
       "99832         ROMÃO            0             0         0           0        0   \n",
       "\n",
       "       sms_received no-show  \n",
       "99832             0      No  "
      ]
     },
     "execution_count": 8,
     "metadata": {},
     "output_type": "execute_result"
    }
   ],
   "source": [
    "df[df['age']<0]"
   ]
  },
  {
   "cell_type": "markdown",
   "id": "30d5b279",
   "metadata": {},
   "source": [
    "dropping data that doesn't make sense."
   ]
  },
  {
   "cell_type": "code",
   "execution_count": 9,
   "id": "9d8b7ae9",
   "metadata": {},
   "outputs": [],
   "source": [
    "#the row is possibly wrong data, so it's removed.\n",
    "df = df[df.age >= 0]"
   ]
  },
  {
   "cell_type": "markdown",
   "id": "ee6d5cb9",
   "metadata": {},
   "source": [
    "### Creating new columns for better analysis."
   ]
  },
  {
   "cell_type": "markdown",
   "id": "2922a456",
   "metadata": {},
   "source": [
    "creating new column of days using the appointmentday column for analysis purpose."
   ]
  },
  {
   "cell_type": "code",
   "execution_count": 10,
   "id": "47b033e9",
   "metadata": {},
   "outputs": [],
   "source": [
    "#convering appointmentday to daytime.\n",
    "df.appointmentday = pd.to_datetime(df.appointmentday)"
   ]
  },
  {
   "cell_type": "code",
   "execution_count": 11,
   "id": "b8f24df9",
   "metadata": {},
   "outputs": [],
   "source": [
    "#extracting days from appointmentday.\n",
    "days = np.array(df.appointmentday.dt.weekday)"
   ]
  },
  {
   "cell_type": "code",
   "execution_count": 14,
   "id": "387c34c2",
   "metadata": {},
   "outputs": [
    {
     "data": {
      "text/plain": [
       "2    25867\n",
       "1    25640\n",
       "0    22714\n",
       "4    19019\n",
       "3    17247\n",
       "5       39\n",
       "Name: days, dtype: int64"
      ]
     },
     "execution_count": 14,
     "metadata": {},
     "output_type": "execute_result"
    }
   ],
   "source": [
    "#inserting the days column into the dataframe.\n",
    "df.insert(4,'days',days)\n",
    "df.days.value_counts()"
   ]
  },
  {
   "cell_type": "code",
   "execution_count": 15,
   "id": "454feec3",
   "metadata": {},
   "outputs": [
    {
     "data": {
      "text/plain": [
       "Wednesday    25867\n",
       "Tuesday      25640\n",
       "Monday       22714\n",
       "Friday       19019\n",
       "Thursday     17247\n",
       "Saturday        39\n",
       "Name: days, dtype: int64"
      ]
     },
     "execution_count": 15,
     "metadata": {},
     "output_type": "execute_result"
    }
   ],
   "source": [
    "#replacing days with weekdays names.\n",
    "df.days.replace({0:'Monday',1:'Tuesday',2:'Wednesday',3:'Thursday',4:'Friday',5:'Saturday',6:'Sunday'},inplace=True)\n",
    "df.days.value_counts()"
   ]
  },
  {
   "cell_type": "markdown",
   "id": "b7702600",
   "metadata": {},
   "source": [
    "creating new column to categorize patients based on age for easier analysis."
   ]
  },
  {
   "cell_type": "code",
   "execution_count": null,
   "id": "26848ab6",
   "metadata": {},
   "outputs": [],
   "source": [
    "#categorizing age into multiple categories\n",
    "#for better and easier analysis.\n",
    "bins = [0,2,14,24,64,115]\n",
    "labels = ['infant','child','youth','adult','senior']\n",
    "df.insert(6,'age_categories',pd.cut(df.age,bins,labels=labels))"
   ]
  },
  {
   "cell_type": "code",
   "execution_count": 17,
   "id": "9ce5d5ea",
   "metadata": {},
   "outputs": [],
   "source": [
    "#replacing last column with more intuitive values.  \n",
    "df = df.rename(columns={'no-show':'show'})\n",
    "df['show'].replace({'No':1,'Yes':0}, inplace=True)"
   ]
  },
  {
   "cell_type": "code",
   "execution_count": 18,
   "id": "b68aeaf5",
   "metadata": {},
   "outputs": [
    {
     "data": {
      "text/html": [
       "<div>\n",
       "<style scoped>\n",
       "    .dataframe tbody tr th:only-of-type {\n",
       "        vertical-align: middle;\n",
       "    }\n",
       "\n",
       "    .dataframe tbody tr th {\n",
       "        vertical-align: top;\n",
       "    }\n",
       "\n",
       "    .dataframe thead th {\n",
       "        text-align: right;\n",
       "    }\n",
       "</style>\n",
       "<table border=\"1\" class=\"dataframe\">\n",
       "  <thead>\n",
       "    <tr style=\"text-align: right;\">\n",
       "      <th></th>\n",
       "      <th>patientid</th>\n",
       "      <th>gender</th>\n",
       "      <th>scheduledday</th>\n",
       "      <th>appointmentday</th>\n",
       "      <th>days</th>\n",
       "      <th>age</th>\n",
       "      <th>age_categories</th>\n",
       "      <th>neighbourhood</th>\n",
       "      <th>scholarship</th>\n",
       "      <th>hipertension</th>\n",
       "      <th>diabetes</th>\n",
       "      <th>alcoholism</th>\n",
       "      <th>handcap</th>\n",
       "      <th>sms_received</th>\n",
       "      <th>show</th>\n",
       "    </tr>\n",
       "  </thead>\n",
       "  <tbody>\n",
       "    <tr>\n",
       "      <th>0</th>\n",
       "      <td>2.987250e+13</td>\n",
       "      <td>F</td>\n",
       "      <td>2016-04-29T18:38:08Z</td>\n",
       "      <td>2016-04-29 00:00:00+00:00</td>\n",
       "      <td>Friday</td>\n",
       "      <td>62</td>\n",
       "      <td>adult</td>\n",
       "      <td>JARDIM DA PENHA</td>\n",
       "      <td>0</td>\n",
       "      <td>1</td>\n",
       "      <td>0</td>\n",
       "      <td>0</td>\n",
       "      <td>0</td>\n",
       "      <td>0</td>\n",
       "      <td>1</td>\n",
       "    </tr>\n",
       "    <tr>\n",
       "      <th>1</th>\n",
       "      <td>5.589978e+14</td>\n",
       "      <td>M</td>\n",
       "      <td>2016-04-29T16:08:27Z</td>\n",
       "      <td>2016-04-29 00:00:00+00:00</td>\n",
       "      <td>Friday</td>\n",
       "      <td>56</td>\n",
       "      <td>adult</td>\n",
       "      <td>JARDIM DA PENHA</td>\n",
       "      <td>0</td>\n",
       "      <td>0</td>\n",
       "      <td>0</td>\n",
       "      <td>0</td>\n",
       "      <td>0</td>\n",
       "      <td>0</td>\n",
       "      <td>1</td>\n",
       "    </tr>\n",
       "    <tr>\n",
       "      <th>2</th>\n",
       "      <td>4.262962e+12</td>\n",
       "      <td>F</td>\n",
       "      <td>2016-04-29T16:19:04Z</td>\n",
       "      <td>2016-04-29 00:00:00+00:00</td>\n",
       "      <td>Friday</td>\n",
       "      <td>62</td>\n",
       "      <td>adult</td>\n",
       "      <td>MATA DA PRAIA</td>\n",
       "      <td>0</td>\n",
       "      <td>0</td>\n",
       "      <td>0</td>\n",
       "      <td>0</td>\n",
       "      <td>0</td>\n",
       "      <td>0</td>\n",
       "      <td>1</td>\n",
       "    </tr>\n",
       "    <tr>\n",
       "      <th>3</th>\n",
       "      <td>8.679512e+11</td>\n",
       "      <td>F</td>\n",
       "      <td>2016-04-29T17:29:31Z</td>\n",
       "      <td>2016-04-29 00:00:00+00:00</td>\n",
       "      <td>Friday</td>\n",
       "      <td>8</td>\n",
       "      <td>child</td>\n",
       "      <td>PONTAL DE CAMBURI</td>\n",
       "      <td>0</td>\n",
       "      <td>0</td>\n",
       "      <td>0</td>\n",
       "      <td>0</td>\n",
       "      <td>0</td>\n",
       "      <td>0</td>\n",
       "      <td>1</td>\n",
       "    </tr>\n",
       "    <tr>\n",
       "      <th>4</th>\n",
       "      <td>8.841186e+12</td>\n",
       "      <td>F</td>\n",
       "      <td>2016-04-29T16:07:23Z</td>\n",
       "      <td>2016-04-29 00:00:00+00:00</td>\n",
       "      <td>Friday</td>\n",
       "      <td>56</td>\n",
       "      <td>adult</td>\n",
       "      <td>JARDIM DA PENHA</td>\n",
       "      <td>0</td>\n",
       "      <td>1</td>\n",
       "      <td>1</td>\n",
       "      <td>0</td>\n",
       "      <td>0</td>\n",
       "      <td>0</td>\n",
       "      <td>1</td>\n",
       "    </tr>\n",
       "  </tbody>\n",
       "</table>\n",
       "</div>"
      ],
      "text/plain": [
       "      patientid gender          scheduledday            appointmentday  \\\n",
       "0  2.987250e+13      F  2016-04-29T18:38:08Z 2016-04-29 00:00:00+00:00   \n",
       "1  5.589978e+14      M  2016-04-29T16:08:27Z 2016-04-29 00:00:00+00:00   \n",
       "2  4.262962e+12      F  2016-04-29T16:19:04Z 2016-04-29 00:00:00+00:00   \n",
       "3  8.679512e+11      F  2016-04-29T17:29:31Z 2016-04-29 00:00:00+00:00   \n",
       "4  8.841186e+12      F  2016-04-29T16:07:23Z 2016-04-29 00:00:00+00:00   \n",
       "\n",
       "     days  age age_categories      neighbourhood  scholarship  hipertension  \\\n",
       "0  Friday   62          adult    JARDIM DA PENHA            0             1   \n",
       "1  Friday   56          adult    JARDIM DA PENHA            0             0   \n",
       "2  Friday   62          adult      MATA DA PRAIA            0             0   \n",
       "3  Friday    8          child  PONTAL DE CAMBURI            0             0   \n",
       "4  Friday   56          adult    JARDIM DA PENHA            0             1   \n",
       "\n",
       "   diabetes  alcoholism  handcap  sms_received  show  \n",
       "0         0           0        0             0     1  \n",
       "1         0           0        0             0     1  \n",
       "2         0           0        0             0     1  \n",
       "3         0           0        0             0     1  \n",
       "4         1           0        0             0     1  "
      ]
     },
     "execution_count": 18,
     "metadata": {},
     "output_type": "execute_result"
    }
   ],
   "source": [
    "df.head()"
   ]
  },
  {
   "cell_type": "code",
   "execution_count": 19,
   "id": "437f0ffe",
   "metadata": {},
   "outputs": [],
   "source": [
    "#saving the cleaned version into a new file.\n",
    "df.to_csv('no_show_cleaned.csv',index=False)"
   ]
  },
  {
   "cell_type": "markdown",
   "id": "1dbd68ae",
   "metadata": {},
   "source": [
    "<a id='eda'></a>\n",
    "## Exploratory Data Analysis"
   ]
  },
  {
   "cell_type": "code",
   "execution_count": 5,
   "id": "03dcb0e0",
   "metadata": {},
   "outputs": [],
   "source": [
    "#loading cleaned version into a dataframe.\n",
    "df = pd.read_csv('no_show_cleaned.csv')"
   ]
  },
  {
   "cell_type": "markdown",
   "id": "ff74523a",
   "metadata": {},
   "source": [
    "### Does age, gender affect whether the patient show up or not?"
   ]
  },
  {
   "cell_type": "code",
   "execution_count": 21,
   "id": "7eff4b34",
   "metadata": {},
   "outputs": [
    {
     "data": {
      "text/plain": [
       "count    110526.000000\n",
       "mean         37.089219\n",
       "std          23.110026\n",
       "min           0.000000\n",
       "25%          18.000000\n",
       "50%          37.000000\n",
       "75%          55.000000\n",
       "max         115.000000\n",
       "Name: age, dtype: float64"
      ]
     },
     "execution_count": 21,
     "metadata": {},
     "output_type": "execute_result"
    }
   ],
   "source": [
    "#basic information about patients' age in the dataset.\n",
    "df.age.describe()"
   ]
  },
  {
   "cell_type": "code",
   "execution_count": 5,
   "id": "7babc105",
   "metadata": {},
   "outputs": [
    {
     "data": {
      "text/plain": [
       "<AxesSubplot:>"
      ]
     },
     "execution_count": 5,
     "metadata": {},
     "output_type": "execute_result"
    },
    {
     "data": {
      "image/png": "[encoded data removed]",
      "text/plain": [
       "<Figure size 432x288 with 1 Axes>"
      ]
     },
     "metadata": {
      "needs_background": "light"
     },
     "output_type": "display_data"
    }
   ],
   "source": [
    "df.age.hist(bins=20)"
   ]
  },
  {
   "cell_type": "markdown",
   "id": "30881500",
   "metadata": {},
   "source": [
    "The age distribution of the dataset is right skewed making the patients of age 5 or less have the majority of the dataset with almost 12000 patients."
   ]
  },
  {
   "cell_type": "code",
   "execution_count": 11,
   "id": "69a90d03",
   "metadata": {},
   "outputs": [
    {
     "data": {
      "image/png": "[encoded data removed]",
      "text/plain": [
       "<Figure size 432x288 with 1 Axes>"
      ]
     },
     "metadata": {
      "needs_background": "light"
     },
     "output_type": "display_data"
    }
   ],
   "source": [
    "#plotting show vs no show based on age.\n",
    "show = df.show == 1\n",
    "no_show = df.show == 0\n",
    "df.age_categories[show].hist(label='show')\n",
    "df.age_categories[no_show].hist(label='no show')\n",
    "plt.xlabel('age categories');\n",
    "plt.ylabel('count');\n",
    "plt.title('show vs no show based on age');\n",
    "plt.legend();"
   ]
  },
  {
   "cell_type": "code",
   "execution_count": 23,
   "id": "ccb846e3",
   "metadata": {},
   "outputs": [
    {
     "data": {
      "text/plain": [
       "adult     0.20\n",
       "child     0.23\n",
       "infant    0.17\n",
       "senior    0.16\n",
       "youth     0.25\n",
       "Name: age_categories, dtype: float64"
      ]
     },
     "execution_count": 23,
     "metadata": {},
     "output_type": "execute_result"
    }
   ],
   "source": [
    "#percentage of no show in the dataset based on age.\n",
    "(df.age_categories[no_show].value_counts()/df.age_categories.value_counts()).round(2)"
   ]
  },
  {
   "cell_type": "code",
   "execution_count": 25,
   "id": "0eded708",
   "metadata": {},
   "outputs": [
    {
     "data": {
      "image/png": "[encoded data removed]",
      "text/plain": [
       "<Figure size 432x288 with 1 Axes>"
      ]
     },
     "metadata": {
      "needs_background": "light"
     },
     "output_type": "display_data"
    }
   ],
   "source": [
    "(df.age_categories[no_show].value_counts()/df.age_categories.value_counts()).round(2).plot();\n",
    "plt.xlabel('age categories');\n",
    "plt.ylabel('no show percentage');\n",
    "plt.title('missed appointments based on age');"
   ]
  },
  {
   "cell_type": "markdown",
   "id": "afb1fe07",
   "metadata": {},
   "source": [
    "based on this dataset and relativly speaking, infants and seniors are less likely to miss their appointments, unlike other age categories, where youth are on top of the list for missing their appointments, and children and adults coming second and third respectivly."
   ]
  },
  {
   "cell_type": "code",
   "execution_count": 26,
   "id": "474d7c42",
   "metadata": {},
   "outputs": [
    {
     "data": {
      "text/plain": [
       "count     110526\n",
       "unique         2\n",
       "top            F\n",
       "freq       71839\n",
       "Name: gender, dtype: object"
      ]
     },
     "execution_count": 26,
     "metadata": {},
     "output_type": "execute_result"
    }
   ],
   "source": [
    "#basic information about patients' gender in the dataset.\n",
    "df.gender.describe()"
   ]
  },
  {
   "cell_type": "code",
   "execution_count": 27,
   "id": "5419baf6",
   "metadata": {},
   "outputs": [
    {
     "data": {
      "image/png": "[encoded data removed]",
      "text/plain": [
       "<Figure size 432x288 with 1 Axes>"
      ]
     },
     "metadata": {
      "needs_background": "light"
     },
     "output_type": "display_data"
    }
   ],
   "source": [
    "#plotting show vs no show based on gender.\n",
    "df.gender[show].hist(label='show')\n",
    "df.gender[no_show].hist(label='no show')\n",
    "plt.xlabel('gender');\n",
    "plt.ylabel('count');"
   ]
  },
  {
   "cell_type": "code",
   "execution_count": 28,
   "id": "2accdf1a",
   "metadata": {},
   "outputs": [
    {
     "data": {
      "text/plain": [
       "F    0.2\n",
       "M    0.2\n",
       "Name: gender, dtype: float64"
      ]
     },
     "execution_count": 28,
     "metadata": {},
     "output_type": "execute_result"
    }
   ],
   "source": [
    "#percentage of no show in the dataset based on gender.\n",
    "(df.gender[no_show].value_counts()/df.gender.value_counts()).round(2)"
   ]
  },
  {
   "cell_type": "code",
   "execution_count": 29,
   "id": "624d43ec",
   "metadata": {},
   "outputs": [
    {
     "data": {
      "image/png": "[encoded data removed]",
      "text/plain": [
       "<Figure size 432x288 with 1 Axes>"
      ]
     },
     "metadata": {
      "needs_background": "light"
     },
     "output_type": "display_data"
    }
   ],
   "source": [
    "(df.gender[no_show].value_counts()/df.gender.value_counts()).round(2).plot();\n",
    "plt.xlabel('gender');\n",
    "plt.ylabel('no show percentage');\n",
    "plt.title('missing appointments based on gender');"
   ]
  },
  {
   "cell_type": "markdown",
   "id": "c9ffd270",
   "metadata": {},
   "source": [
    "based on above calculations and plotting, gender doesn't seem to affect showing up for the appointment or not."
   ]
  },
  {
   "cell_type": "code",
   "execution_count": 19,
   "id": "73a3f45c",
   "metadata": {},
   "outputs": [
    {
     "data": {
      "image/png": "[encoded data removed]",
      "text/plain": [
       "<Figure size 432x288 with 1 Axes>"
      ]
     },
     "metadata": {
      "needs_background": "light"
     },
     "output_type": "display_data"
    }
   ],
   "source": [
    "#grouping data based on age categories and gender.\n",
    "df.groupby(['age_categories','gender']).show.mean().plot(kind='bar')\n",
    "plt.ylabel('average show rate');\n",
    "plt.title('male, female of different ages');"
   ]
  },
  {
   "cell_type": "markdown",
   "id": "f24feca4",
   "metadata": {},
   "source": [
    "the same results appear again here with seniors and infants with the highest show rate, also it's clear that gender doesn't affect show rate."
   ]
  },
  {
   "cell_type": "code",
   "execution_count": null,
   "id": "9e24aceb",
   "metadata": {},
   "outputs": [],
   "source": []
  },
  {
   "cell_type": "markdown",
   "id": "5094f7a0",
   "metadata": {},
   "source": [
    "### is there a day of the week patients will be more likely to show up at?"
   ]
  },
  {
   "cell_type": "code",
   "execution_count": 27,
   "id": "693c7632",
   "metadata": {},
   "outputs": [
    {
     "data": {
      "image/png": "[encoded data removed]",
      "text/plain": [
       "<Figure size 432x288 with 1 Axes>"
      ]
     },
     "metadata": {
      "needs_background": "light"
     },
     "output_type": "display_data"
    }
   ],
   "source": [
    "#grouping data by days.\n",
    "df.groupby('days').show.mean().plot(kind='bar')\n",
    "plt.ylabel('average show rate');\n",
    "plt.title('show rates on each day of the week');"
   ]
  },
  {
   "cell_type": "markdown",
   "id": "124283de",
   "metadata": {},
   "source": [
    "there's no correlation between the weekday and show rate of patients, which mean there will be no evidence for the patients to show up or not based on day of the week."
   ]
  },
  {
   "cell_type": "markdown",
   "id": "63808fe3",
   "metadata": {},
   "source": [
    "### relating to the question discussed above, we can show the relation between age categories and days of the week."
   ]
  },
  {
   "cell_type": "code",
   "execution_count": 30,
   "id": "dc887342",
   "metadata": {},
   "outputs": [
    {
     "data": {
      "image/png": "[encoded data removed]",
      "text/plain": [
       "<Figure size 432x288 with 1 Axes>"
      ]
     },
     "metadata": {
      "needs_background": "light"
     },
     "output_type": "display_data"
    }
   ],
   "source": [
    "#grouping data based on age categories and days.\n",
    "df.groupby(['days','age_categories']).show.mean().plot(kind='bar')\n",
    "plt.ylabel('average show rate')\n",
    "plt.title('age categories of different days');"
   ]
  },
  {
   "cell_type": "markdown",
   "id": "22e521d3",
   "metadata": {},
   "source": [
    "one thing to notice about this plotting is that in Saturdays no children or infants show up at all, also youth has very low show up rate relative to both adults and seniors."
   ]
  },
  {
   "cell_type": "code",
   "execution_count": null,
   "id": "027378c5",
   "metadata": {},
   "outputs": [],
   "source": []
  },
  {
   "cell_type": "markdown",
   "id": "2efa0d0f",
   "metadata": {},
   "source": [
    "### does having a medical condition(eg: Hipertension) increase the chances of showing up?"
   ]
  },
  {
   "cell_type": "code",
   "execution_count": 12,
   "id": "a3f52541",
   "metadata": {},
   "outputs": [
    {
     "data": {
      "text/plain": [
       "count    110526.000000\n",
       "mean          0.197248\n",
       "std           0.397923\n",
       "min           0.000000\n",
       "25%           0.000000\n",
       "50%           0.000000\n",
       "75%           0.000000\n",
       "max           1.000000\n",
       "Name: hipertension, dtype: float64"
      ]
     },
     "execution_count": 12,
     "metadata": {},
     "output_type": "execute_result"
    }
   ],
   "source": [
    "#basic information about patients' with \n",
    "#hipertension in the dataset.\n",
    "df.hipertension.describe()"
   ]
  },
  {
   "cell_type": "code",
   "execution_count": 11,
   "id": "a8d9d586",
   "metadata": {},
   "outputs": [
    {
     "data": {
      "image/png": "[encoded data removed]",
      "text/plain": [
       "<Figure size 432x288 with 1 Axes>"
      ]
     },
     "metadata": {
      "needs_background": "light"
     },
     "output_type": "display_data"
    }
   ],
   "source": [
    "#creating a function to reduce repetitive code.\n",
    "def plot_hist(column,xlabel,ylabel,title):\n",
    "    column.hist();\n",
    "    plt.xlabel(xlabel);\n",
    "    plt.ylabel(ylabel);\n",
    "    plt.title(title);\n",
    "plot_hist(df.hipertension,'have hipertension', 'count', 'patients with hipertension')"
   ]
  },
  {
   "cell_type": "markdown",
   "id": "4bac888a",
   "metadata": {},
   "source": [
    "It's clear that most patients don't suffer from hipertension."
   ]
  },
  {
   "cell_type": "code",
   "execution_count": 17,
   "id": "663c48e2",
   "metadata": {},
   "outputs": [
    {
     "data": {
      "image/png": "[encoded data removed]",
      "text/plain": [
       "<Figure size 432x288 with 1 Axes>"
      ]
     },
     "metadata": {
      "needs_background": "light"
     },
     "output_type": "display_data"
    }
   ],
   "source": [
    "df.hipertension[show].hist(label='show')\n",
    "df.hipertension[no_show].hist(label='no show')\n",
    "plt.xlabel('have hipertension')\n",
    "plt.ylabel('count')\n",
    "plt.title('show vs no show based on hipertension')\n",
    "plt.legend();"
   ]
  },
  {
   "cell_type": "code",
   "execution_count": 18,
   "id": "8f3a8778",
   "metadata": {},
   "outputs": [
    {
     "data": {
      "text/plain": [
       "0    0.21\n",
       "1    0.17\n",
       "Name: hipertension, dtype: float64"
      ]
     },
     "execution_count": 18,
     "metadata": {},
     "output_type": "execute_result"
    }
   ],
   "source": [
    "#percentage of show and no show in the dataset\n",
    "#based on hipertension.\n",
    "(df.hipertension[show].value_counts()/df.hipertension.value_counts()).round(2)\n",
    "(df.hipertension[no_show].value_counts()/df.hipertension.value_counts()).round(2)"
   ]
  },
  {
   "cell_type": "code",
   "execution_count": 19,
   "id": "ffd0d655",
   "metadata": {},
   "outputs": [
    {
     "data": {
      "image/png": "[encoded data removed]",
      "text/plain": [
       "<Figure size 432x288 with 1 Axes>"
      ]
     },
     "metadata": {
      "needs_background": "light"
     },
     "output_type": "display_data"
    }
   ],
   "source": [
    "(df.hipertension[no_show].value_counts()/df.hipertension.value_counts()).round(2).plot();\n",
    "plt.xlabel('have hipertension');\n",
    "plt.ylabel('no show percentage');\n",
    "plt.title('missed appointments based on hipertension');"
   ]
  },
  {
   "cell_type": "markdown",
   "id": "e44fed0d",
   "metadata": {},
   "source": [
    "Based on the dataset and the plotting above, it's clear that people suffering from hipertension are actually less likely to miss their appointments."
   ]
  },
  {
   "cell_type": "code",
   "execution_count": 21,
   "id": "bc3dcd18",
   "metadata": {},
   "outputs": [
    {
     "data": {
      "text/plain": [
       "count    110526.000000\n",
       "mean          0.030400\n",
       "std           0.171686\n",
       "min           0.000000\n",
       "25%           0.000000\n",
       "50%           0.000000\n",
       "75%           0.000000\n",
       "max           1.000000\n",
       "Name: alcoholism, dtype: float64"
      ]
     },
     "execution_count": 21,
     "metadata": {},
     "output_type": "execute_result"
    }
   ],
   "source": [
    "#basic information about patients' with \n",
    "#alcoholism in the dataset.\n",
    "df.alcoholism.describe()"
   ]
  },
  {
   "cell_type": "code",
   "execution_count": 12,
   "id": "0ab4ee73",
   "metadata": {},
   "outputs": [
    {
     "data": {
      "image/png": "[encoded data removed]",
      "text/plain": [
       "<Figure size 432x288 with 1 Axes>"
      ]
     },
     "metadata": {
      "needs_background": "light"
     },
     "output_type": "display_data"
    }
   ],
   "source": [
    "plot_hist(df.alcoholism,'alcoholic', 'count', 'alcoholic patients')"
   ]
  },
  {
   "cell_type": "markdown",
   "id": "80a5cda5",
   "metadata": {},
   "source": [
    "clearly most patients are not alcoholic."
   ]
  },
  {
   "cell_type": "code",
   "execution_count": 23,
   "id": "bfd449ad",
   "metadata": {},
   "outputs": [
    {
     "data": {
      "image/png": "[encoded data removed]",
      "text/plain": [
       "<Figure size 432x288 with 1 Axes>"
      ]
     },
     "metadata": {
      "needs_background": "light"
     },
     "output_type": "display_data"
    }
   ],
   "source": [
    "df.alcoholism[show].hist(label='show')\n",
    "df.alcoholism[no_show].hist(label='no show')\n",
    "plt.xlabel('alcoholic')\n",
    "plt.ylabel('count')\n",
    "plt.title('show vs no show based on alcoholism')\n",
    "plt.legend();"
   ]
  },
  {
   "cell_type": "code",
   "execution_count": 24,
   "id": "2d749aa8",
   "metadata": {},
   "outputs": [
    {
     "data": {
      "text/plain": [
       "0    0.2\n",
       "1    0.2\n",
       "Name: alcoholism, dtype: float64"
      ]
     },
     "execution_count": 24,
     "metadata": {},
     "output_type": "execute_result"
    }
   ],
   "source": [
    "#percentage of show and no show in the dataset\n",
    "#based on alcoholism.\n",
    "(df.alcoholism[show].value_counts()/df.alcoholism.value_counts()).round(2)\n",
    "(df.alcoholism[no_show].value_counts()/df.alcoholism.value_counts()).round(2)"
   ]
  },
  {
   "cell_type": "code",
   "execution_count": 26,
   "id": "a9d49e29",
   "metadata": {},
   "outputs": [
    {
     "data": {
      "image/png": "[encoded data removed]",
      "text/plain": [
       "<Figure size 432x288 with 1 Axes>"
      ]
     },
     "metadata": {
      "needs_background": "light"
     },
     "output_type": "display_data"
    }
   ],
   "source": [
    "(df.alcoholism[no_show].value_counts()/df.alcoholism.value_counts()).round(2).plot();\n",
    "plt.xlabel('alcoholic');\n",
    "plt.ylabel('no show percentage');\n",
    "plt.title('missed appointments based on alcoholism');"
   ]
  },
  {
   "cell_type": "markdown",
   "id": "96467eab",
   "metadata": {},
   "source": [
    "the figure shows that being alcoholic doesn't affect show rate for medical appointments."
   ]
  },
  {
   "cell_type": "code",
   "execution_count": 27,
   "id": "ecd1cd83",
   "metadata": {},
   "outputs": [
    {
     "data": {
      "text/plain": [
       "count    110526.000000\n",
       "mean          0.071865\n",
       "std           0.258266\n",
       "min           0.000000\n",
       "25%           0.000000\n",
       "50%           0.000000\n",
       "75%           0.000000\n",
       "max           1.000000\n",
       "Name: diabetes, dtype: float64"
      ]
     },
     "execution_count": 27,
     "metadata": {},
     "output_type": "execute_result"
    }
   ],
   "source": [
    "#basic information about patients' with \n",
    "#diabetes in the dataset.\n",
    "df.diabetes.describe()"
   ]
  },
  {
   "cell_type": "code",
   "execution_count": 13,
   "id": "29f901ef",
   "metadata": {},
   "outputs": [
    {
     "data": {
      "image/png": "[encoded data removed]",
      "text/plain": [
       "<Figure size 432x288 with 1 Axes>"
      ]
     },
     "metadata": {
      "needs_background": "light"
     },
     "output_type": "display_data"
    }
   ],
   "source": [
    "plot_hist(df.diabetes,'diabetic', 'count', 'diabetic patients')"
   ]
  },
  {
   "cell_type": "markdown",
   "id": "6057a228",
   "metadata": {},
   "source": [
    "the majority of the patients on the dataset don't suffer from diabetes."
   ]
  },
  {
   "cell_type": "code",
   "execution_count": 29,
   "id": "491029cb",
   "metadata": {},
   "outputs": [
    {
     "data": {
      "image/png": "[encoded data removed]",
      "text/plain": [
       "<Figure size 432x288 with 1 Axes>"
      ]
     },
     "metadata": {
      "needs_background": "light"
     },
     "output_type": "display_data"
    }
   ],
   "source": [
    "df.diabetes[show].hist(label='show')\n",
    "df.diabetes[no_show].hist(label='no show')\n",
    "plt.xlabel('diabetic')\n",
    "plt.ylabel('count')\n",
    "plt.title('show vs no show based on diabetes')\n",
    "plt.legend();"
   ]
  },
  {
   "cell_type": "code",
   "execution_count": 31,
   "id": "701f6db7",
   "metadata": {},
   "outputs": [
    {
     "data": {
      "text/plain": [
       "0    0.20\n",
       "1    0.18\n",
       "Name: diabetes, dtype: float64"
      ]
     },
     "execution_count": 31,
     "metadata": {},
     "output_type": "execute_result"
    }
   ],
   "source": [
    "#percentage of show and no show in the dataset\n",
    "#based on alcoholism.\n",
    "(df.diabetes[show].value_counts()/df.diabetes.value_counts()).round(2)\n",
    "(df.diabetes[no_show].value_counts()/df.diabetes.value_counts()).round(2)"
   ]
  },
  {
   "cell_type": "code",
   "execution_count": 32,
   "id": "87480bb2",
   "metadata": {},
   "outputs": [
    {
     "data": {
      "image/png": "[encoded data removed]",
      "text/plain": [
       "<Figure size 432x288 with 1 Axes>"
      ]
     },
     "metadata": {
      "needs_background": "light"
     },
     "output_type": "display_data"
    }
   ],
   "source": [
    "(df.diabetes[no_show].value_counts()/df.diabetes.value_counts()).round(2).plot();\n",
    "plt.xlabel('diabetic');\n",
    "plt.ylabel('no show percentage');\n",
    "plt.title('missed appointments based on diabetes');"
   ]
  },
  {
   "cell_type": "markdown",
   "id": "1389efc7",
   "metadata": {},
   "source": [
    "From the figure above, the data shows that being diabetic increase the chances of showing up for medical appointments."
   ]
  },
  {
   "cell_type": "code",
   "execution_count": 33,
   "id": "8cd03e0f",
   "metadata": {},
   "outputs": [
    {
     "data": {
      "text/plain": [
       "count    110526.000000\n",
       "mean          0.022248\n",
       "std           0.161543\n",
       "min           0.000000\n",
       "25%           0.000000\n",
       "50%           0.000000\n",
       "75%           0.000000\n",
       "max           4.000000\n",
       "Name: handcap, dtype: float64"
      ]
     },
     "execution_count": 33,
     "metadata": {},
     "output_type": "execute_result"
    }
   ],
   "source": [
    "#basic information about patients' with \n",
    "#handcap in the dataset.\n",
    "df.handcap.describe()"
   ]
  },
  {
   "cell_type": "code",
   "execution_count": 35,
   "id": "45fa4862",
   "metadata": {},
   "outputs": [
    {
     "data": {
      "text/plain": [
       "0    108285\n",
       "1      2042\n",
       "2       183\n",
       "3        13\n",
       "4         3\n",
       "Name: handcap, dtype: int64"
      ]
     },
     "execution_count": 35,
     "metadata": {},
     "output_type": "execute_result"
    }
   ],
   "source": [
    "df.handcap.value_counts()"
   ]
  },
  {
   "cell_type": "code",
   "execution_count": 14,
   "id": "00db0a1b",
   "metadata": {},
   "outputs": [
    {
     "data": {
      "image/png": "[encoded data removed]",
      "text/plain": [
       "<Figure size 432x288 with 1 Axes>"
      ]
     },
     "metadata": {
      "needs_background": "light"
     },
     "output_type": "display_data"
    }
   ],
   "source": [
    "plot_hist(df.handcap,'handicapped', 'count', 'handicapped patients')"
   ]
  },
  {
   "cell_type": "markdown",
   "id": "d42ace4e",
   "metadata": {},
   "source": [
    "The majority of the patients in the dataset are not handicapped."
   ]
  },
  {
   "cell_type": "code",
   "execution_count": 36,
   "id": "5b0f914c",
   "metadata": {},
   "outputs": [
    {
     "data": {
      "image/png": "[encoded data removed]",
      "text/plain": [
       "<Figure size 432x288 with 1 Axes>"
      ]
     },
     "metadata": {
      "needs_background": "light"
     },
     "output_type": "display_data"
    }
   ],
   "source": [
    "df.handcap[show].hist(label='show')\n",
    "df.handcap[no_show].hist(label='no show')\n",
    "plt.xlabel('handicapped')\n",
    "plt.ylabel('count')\n",
    "plt.title('show vs no show based on handcap')\n",
    "plt.legend();"
   ]
  },
  {
   "cell_type": "code",
   "execution_count": 38,
   "id": "47378d0a",
   "metadata": {},
   "outputs": [
    {
     "data": {
      "text/plain": [
       "0    0.20\n",
       "1    0.18\n",
       "2    0.20\n",
       "3    0.23\n",
       "4    0.33\n",
       "Name: handcap, dtype: float64"
      ]
     },
     "execution_count": 38,
     "metadata": {},
     "output_type": "execute_result"
    }
   ],
   "source": [
    "#percentage of show and no show in the dataset\n",
    "#based on alcoholism.\n",
    "(df.handcap[show].value_counts()/df.handcap.value_counts()).round(2)\n",
    "(df.handcap[no_show].value_counts()/df.handcap.value_counts()).round(2)"
   ]
  },
  {
   "cell_type": "code",
   "execution_count": 40,
   "id": "1e4badd4",
   "metadata": {},
   "outputs": [
    {
     "data": {
      "image/png": "[encoded data removed]",
      "text/plain": [
       "<Figure size 432x288 with 1 Axes>"
      ]
     },
     "metadata": {
      "needs_background": "light"
     },
     "output_type": "display_data"
    }
   ],
   "source": [
    "(df.handcap[no_show].value_counts()/df.handcap.value_counts()).round(2).plot(kind='bar');\n",
    "plt.xlabel('handicaped');\n",
    "plt.ylabel('no show percentage');\n",
    "plt.title('missed appointments based on handcap');"
   ]
  },
  {
   "cell_type": "markdown",
   "id": "79f881ad",
   "metadata": {},
   "source": [
    "the data is mostly left skewed, meaning that patients with more disabilities  are more likely to miss their medical appointments."
   ]
  },
  {
   "cell_type": "markdown",
   "id": "b1c92e7d",
   "metadata": {},
   "source": [
    "<a id='conclusions'></a>\n",
    "## conclusions"
   ]
  },
  {
   "cell_type": "markdown",
   "id": "59268dd8",
   "metadata": {},
   "source": [
    "During this analysis, we found that age affect show rate in patients, with seniors are less likely to miss their medical appointments followed by infants, also we found that gender have no effect on show rate, as both men and women have exactly the same percentage of missing their medical appointments. Weekdays had no dirct effect on show rates of patients, but Saturday in particual had no infants or children patiens(ages range from 0 to 14). Having medical condition does affect show rates of patients in cases like hipertension, diabetes, and handicapped, but doesn't in a case like alcoholism.\n",
    "#### limitions:\n",
    "It's worth mentioning, that after droping and adding columns, cleaning data, there was some duplicate values in the dataset that didn't appear at first, also the conclusions drawn on the handicapped patients could have some erroness in it, as there were no enough data for patients with more than one handicap."
   ]
  }
 ],
 "metadata": {
  "kernelspec": {
   "display_name": "Python 3",
   "language": "python",
   "name": "python3"
  },
  "language_info": {
   "codemirror_mode": {
    "name": "ipython",
    "version": 3
   },
   "file_extension": ".py",
   "mimetype": "text/x-python",
   "name": "python",
   "nbconvert_exporter": "python",
   "pygments_lexer": "ipython3",
   "version": "3.8.8"
  }
 },
 "nbformat": 4,
 "nbformat_minor": 5
}
